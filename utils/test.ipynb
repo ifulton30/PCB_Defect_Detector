{
 "cells": [
  {
   "cell_type": "code",
   "execution_count": 10,
   "id": "52ba0f49",
   "metadata": {},
   "outputs": [],
   "source": [
    "import cv2"
   ]
  },
  {
   "cell_type": "code",
   "execution_count": 12,
   "id": "e8391ff5",
   "metadata": {},
   "outputs": [
    {
     "name": "stdout",
     "output_type": "stream",
     "text": [
      "Test point 1\n",
      "< cv2.VideoCapture 0000021FFEED2750>\n",
      "Camera opened successfully\n"
     ]
    }
   ],
   "source": [
    "print(\"Test point 1\")\n",
    "\n",
    "try:\n",
    "    cap = cv2.VideoCapture(0)\n",
    "    print(cap)\n",
    "except Exception as e:\n",
    "    print(e)\n",
    "\n",
    "print(\"Camera opened successfully\")\n",
    "\n",
    "while True:\n",
    "    # Capturing frame by frame\n",
    "    ret, frame = cap.read()\n",
    "\n",
    "    if not ret:\n",
    "        print(\"Error: Could not receive frames\")\n",
    "        break\n",
    "\n",
    "    cv2.imshow(\"Webcam Feed\", frame)\n",
    "\n",
    "    # Pressing 'q' to quit\n",
    "    if cv2.waitKey(1) & 0xFF == ord('q'):\n",
    "        break\n",
    "\n",
    "cap.release()\n",
    "cv2.destroyAllWindows() "
   ]
  },
  {
   "cell_type": "code",
   "execution_count": null,
   "id": "a20b6a4d",
   "metadata": {},
   "outputs": [],
   "source": []
  }
 ],
 "metadata": {
  "kernelspec": {
   "display_name": "venv",
   "language": "python",
   "name": "python3"
  },
  "language_info": {
   "codemirror_mode": {
    "name": "ipython",
    "version": 3
   },
   "file_extension": ".py",
   "mimetype": "text/x-python",
   "name": "python",
   "nbconvert_exporter": "python",
   "pygments_lexer": "ipython3",
   "version": "3.12.3"
  }
 },
 "nbformat": 4,
 "nbformat_minor": 5
}
